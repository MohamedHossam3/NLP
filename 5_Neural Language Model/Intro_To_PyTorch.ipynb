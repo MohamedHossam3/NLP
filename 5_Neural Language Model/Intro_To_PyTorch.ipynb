{
 "cells": [
  {
   "cell_type": "markdown",
   "id": "33cf6f7f",
   "metadata": {},
   "source": [
    "# Introduction to PyTorch\n",
    "\n",
    "This is not graded!\n",
    "\n",
    "© Tim Metzler, Hochschule Bonn-Rhein-Sieg"
   ]
  },
  {
   "cell_type": "code",
   "execution_count": 1,
   "id": "4c281b67",
   "metadata": {
    "ExecuteTime": {
     "end_time": "2024-05-17T16:46:00.791297Z",
     "start_time": "2024-05-17T16:45:58.741242Z"
    }
   },
   "outputs": [],
   "source": [
    "import torch\n",
    "import torch.nn as nn"
   ]
  },
  {
   "cell_type": "markdown",
   "id": "79c06ce0",
   "metadata": {},
   "source": [
    "## 1. Dataset\n",
    "\n",
    "### 1.1 Define dataset\n",
    "\n",
    "We first need a dataset. This can either be an instance of the class `torch.utils.data.DataSet` or a simple list of tuples like so:\n",
    "\n",
    "```\n",
    "dataset = [\n",
    "    (input1, label1),\n",
    "    (input2, label2),\n",
    "    ...\n",
    "]\n",
    "```"
   ]
  },
  {
   "cell_type": "code",
   "execution_count": 2,
   "id": "09c7af41",
   "metadata": {
    "ExecuteTime": {
     "end_time": "2024-05-17T16:46:00.806170Z",
     "start_time": "2024-05-17T16:46:00.797876Z"
    }
   },
   "outputs": [],
   "source": [
    "# XOR dataset\n",
    "dataset = [\n",
    "    ([0, 1], [1]),\n",
    "    ([1, 0], [1]),\n",
    "    ([1, 1], [0]),\n",
    "    ([0, 0], [0])\n",
    "]"
   ]
  },
  {
   "cell_type": "markdown",
   "id": "91282ba4",
   "metadata": {},
   "source": [
    "### 1.2 Convert dataset to proper type\n",
    "\n",
    "PyTorch works with tensors, so we need to make sure our labels and inputs are given as tensors"
   ]
  },
  {
   "cell_type": "code",
   "execution_count": 3,
   "id": "3a51514f",
   "metadata": {
    "ExecuteTime": {
     "end_time": "2024-05-17T16:46:00.877849Z",
     "start_time": "2024-05-17T16:46:00.811875Z"
    }
   },
   "outputs": [
    {
     "name": "stdout",
     "output_type": "stream",
     "text": [
      "(tensor([0., 1.]), tensor([1]))\n",
      "(tensor([1., 0.]), tensor([1]))\n",
      "(tensor([1., 1.]), tensor([0]))\n",
      "(tensor([0., 0.]), tensor([0]))\n"
     ]
    }
   ],
   "source": [
    "torch_dataset = []\n",
    "\n",
    "for sample, label in dataset:\n",
    "    torch_dataset.append(\n",
    "        (torch.Tensor(sample), torch.tensor(label))\n",
    "    )\n",
    "    \n",
    "for row in torch_dataset:\n",
    "    print(row)"
   ]
  },
  {
   "cell_type": "markdown",
   "id": "6c93fc04",
   "metadata": {},
   "source": [
    "### 1.3 Using the Dataset class\n",
    "\n",
    "In some cases we might want only create our data when a single example is accessed.\n",
    "\n",
    "An example could be going from an index to a onehot encoded vector."
   ]
  },
  {
   "cell_type": "code",
   "execution_count": 16,
   "id": "39f190de",
   "metadata": {
    "ExecuteTime": {
     "end_time": "2024-05-17T18:46:42.909773Z",
     "start_time": "2024-05-17T18:46:42.885198Z"
    }
   },
   "outputs": [
    {
     "name": "stdout",
     "output_type": "stream",
     "text": [
      "4\n",
      "(tensor([0., 0.]), tensor([0.]))\n"
     ]
    }
   ],
   "source": [
    "from torch.utils.data import Dataset\n",
    "from typing import List, Tuple\n",
    "\n",
    "class XORDataset(Dataset):\n",
    "    \n",
    "    def __init__(self):\n",
    "        self.data = [\n",
    "            ([0, 1], [1]),\n",
    "            ([1, 0], [1]),\n",
    "            ([1, 1], [0]),\n",
    "            ([0, 0], [0])\n",
    "        ]\n",
    "        \n",
    "    def __len__(self) -> int:\n",
    "        return len(self.data)\n",
    "    \n",
    "    def __getitem__(self, index: int) -> Tuple[List[torch.tensor], torch.tensor]:\n",
    "        return (\n",
    "            torch.Tensor(self.data[index][0]),\n",
    "            torch.Tensor(self.data[index][1])\n",
    "        )\n",
    "    \n",
    "# Create the dataset\n",
    "\n",
    "xor_dataset = XORDataset()\n",
    "\n",
    "print(len(xor_dataset))\n",
    "print(xor_dataset[3])"
   ]
  },
  {
   "cell_type": "markdown",
   "id": "03812003",
   "metadata": {},
   "source": [
    "## 2. DataLoader\n",
    "\n",
    "We often like to train our models in batches and shuffle after each epoch.\n",
    "\n",
    "For this we can use the `torch.utils.data.DataLoader` class."
   ]
  },
  {
   "cell_type": "code",
   "execution_count": 5,
   "id": "42037988",
   "metadata": {
    "ExecuteTime": {
     "end_time": "2024-05-17T16:46:01.000568Z",
     "start_time": "2024-05-17T16:46:00.933078Z"
    }
   },
   "outputs": [
    {
     "name": "stdout",
     "output_type": "stream",
     "text": [
      "0\n",
      "[tensor([[1., 0.],\n",
      "        [0., 1.]]), tensor([[1.],\n",
      "        [1.]])]\n",
      "--------------------\n",
      "1\n",
      "[tensor([[1., 1.],\n",
      "        [0., 0.]]), tensor([[0.],\n",
      "        [0.]])]\n",
      "--------------------\n",
      "\n",
      "Next epoch\n",
      "\n",
      "0\n",
      "[tensor([[0., 1.],\n",
      "        [1., 0.]]), tensor([[1.],\n",
      "        [1.]])]\n",
      "--------------------\n",
      "1\n",
      "[tensor([[1., 1.],\n",
      "        [0., 0.]]), tensor([[0.],\n",
      "        [0.]])]\n",
      "--------------------\n"
     ]
    }
   ],
   "source": [
    "from torch.utils.data import DataLoader\n",
    "\n",
    "# This loader will produce the data in batches of 2 and after all batches are done\n",
    "# it will shuffle the data\n",
    "data_loader = DataLoader(xor_dataset, batch_size=2, shuffle=True)\n",
    "\n",
    "# Example of how to iterate over the data this way\n",
    "for batch_id, data in enumerate(data_loader):\n",
    "    print(batch_id)\n",
    "    print(data)\n",
    "    print(\"-\" * 20)\n",
    "    \n",
    "print()\n",
    "print(\"Next epoch\")\n",
    "print()\n",
    "\n",
    "# Lets do it again to see if it shuffled\n",
    "for batch_id, data in enumerate(data_loader):\n",
    "    print(batch_id)\n",
    "    print(data)\n",
    "    print(\"-\" * 20)"
   ]
  },
  {
   "cell_type": "markdown",
   "id": "c8c910da",
   "metadata": {},
   "source": [
    "## 3. The model\n",
    "\n",
    "### 3.1 Defining the architecture of your model\n",
    "\n",
    "For this we need to implement a class that inherits from `torch.nn.Module`.\n",
    "\n",
    "This class needs a constructor and a forward method.\n",
    "\n",
    "The forward method tells the model how to get from an input to an output.\n",
    "\n",
    "In the example below we will create a neural network with 2 hidden layers and a sigmoid activation function."
   ]
  },
  {
   "cell_type": "code",
   "execution_count": 17,
   "id": "9a6d98d1",
   "metadata": {
    "ExecuteTime": {
     "end_time": "2024-05-17T20:31:41.100386Z",
     "start_time": "2024-05-17T20:31:41.080524Z"
    }
   },
   "outputs": [],
   "source": [
    "class XORClassifier(nn.Module):\n",
    "    \n",
    "    def __init__(self):\n",
    "        # We always need to call the constructor of the super class\n",
    "        super().__init__()\n",
    "        # Here we define the layers and activations\n",
    "        # Our activation function will be a sigmoid\n",
    "        self.activation = nn.Sigmoid()\n",
    "        # First layer takes our input of dimensionality 2\n",
    "        # and feeds it into a linear layer with an output of 5\n",
    "        self.hidden1 = nn.Linear(2, 5)\n",
    "        \n",
    "        # Second layer takes our outputs the previous layer of dimensionality 5\n",
    "        # and feeds it into a linear layer with an output of 1 (same as from our labels)\n",
    "        # This will be the last layer\n",
    "        self.hidden2 = nn.Linear(5, 1)\n",
    "        \n",
    "    def forward(self, x: torch.TensorType) -> torch.TensorType:\n",
    "        # Here we need to turn an input into an output\n",
    "        \n",
    "        # First we feed it to the first layer\n",
    "        y = self.hidden1(x)\n",
    "        # Now we apply the activation to it\n",
    "        y = self.activation(y)\n",
    "        # Feed it to the last layer\n",
    "        y = self.hidden2(y)\n",
    "        # Apply activation again\n",
    "        y = self.activation(y)\n",
    "        return y"
   ]
  },
  {
   "cell_type": "markdown",
   "id": "f3840ca4",
   "metadata": {},
   "source": [
    "### 3.2 Testing the model\n",
    "\n",
    "Let us perform a forward pass of our model to make sure we implemented it correctly"
   ]
  },
  {
   "cell_type": "code",
   "execution_count": 7,
   "id": "a612d2d9",
   "metadata": {
    "ExecuteTime": {
     "end_time": "2024-05-17T16:46:01.130145Z",
     "start_time": "2024-05-17T16:46:01.052467Z"
    }
   },
   "outputs": [
    {
     "name": "stdout",
     "output_type": "stream",
     "text": [
      "tensor([0.5533], grad_fn=<SigmoidBackward0>)\n",
      "tensor([0.5533])\n"
     ]
    },
    {
     "data": {
      "text/plain": [
       "array([0.5532673], dtype=float32)"
      ]
     },
     "execution_count": 7,
     "metadata": {},
     "output_type": "execute_result"
    }
   ],
   "source": [
    "model = XORClassifier()\n",
    "\n",
    "# Let us take the first sample from the dataset\n",
    "sample, label = xor_dataset[0]\n",
    "\n",
    "# Notice how we don't need to call the forward method explicitly\n",
    "output = model(sample)\n",
    "\n",
    "print(output)\n",
    "\n",
    "# There seems to be a gradient in our output. Why is that?\n",
    "# How do we get rid of it?\n",
    "print(output.detach())\n",
    "\n",
    "output.detach().numpy()"
   ]
  },
  {
   "cell_type": "markdown",
   "id": "95179650",
   "metadata": {},
   "source": [
    "### 3.3 Testing the model with more inputs\n",
    "\n",
    "What happens if instead of one example we feed more examples like our data loader produces?"
   ]
  },
  {
   "cell_type": "code",
   "execution_count": 8,
   "id": "781e0aec",
   "metadata": {
    "ExecuteTime": {
     "end_time": "2024-05-17T16:46:01.179832Z",
     "start_time": "2024-05-17T16:46:01.134307Z"
    }
   },
   "outputs": [
    {
     "name": "stdout",
     "output_type": "stream",
     "text": [
      "##############################\n",
      "Batch number 0\n",
      "Our inputs are tensor([[1., 0.],\n",
      "        [0., 1.]])\n",
      "Our labels are tensor([[1.],\n",
      "        [1.]])\n",
      "Our outputs are tensor([[0.5397],\n",
      "        [0.5533]], grad_fn=<SigmoidBackward0>)\n",
      "##############################\n",
      "Batch number 1\n",
      "Our inputs are tensor([[0., 0.],\n",
      "        [1., 1.]])\n",
      "Our labels are tensor([[0.],\n",
      "        [0.]])\n",
      "Our outputs are tensor([[0.5326],\n",
      "        [0.5602]], grad_fn=<SigmoidBackward0>)\n"
     ]
    }
   ],
   "source": [
    "for batch_id, data in enumerate(data_loader):\n",
    "    print(\"#\" * 30)\n",
    "    print(f\"Batch number {batch_id}\")\n",
    "    samples, labels = data\n",
    "    print(\"Our inputs are\", samples)\n",
    "    print(\"Our labels are\", labels)\n",
    "    # Lets try to feed all of the samples at the same time\n",
    "    outputs = model(samples)\n",
    "    print(\"Our outputs are\", outputs)\n",
    "    # Notice how we can feed more inputs at once?\n"
   ]
  },
  {
   "cell_type": "markdown",
   "id": "be26c4d2",
   "metadata": {},
   "source": [
    "## 4. Training the model\n",
    "\n",
    "### 4.1 The loss\n",
    "\n",
    "The loss tells us how wrong our classifier is on an input. It is a function of the predicted output and the desired output.\n",
    "\n",
    "Common loss functions are mean squared error loss (MSELoss) or cross entropy loss.\n",
    "\n",
    "Let us look at it for one example"
   ]
  },
  {
   "cell_type": "code",
   "execution_count": 9,
   "id": "41fbdf0d",
   "metadata": {
    "ExecuteTime": {
     "end_time": "2024-05-17T16:46:01.238772Z",
     "start_time": "2024-05-17T16:46:01.185872Z"
    }
   },
   "outputs": [
    {
     "name": "stdout",
     "output_type": "stream",
     "text": [
      "##############################\n",
      "Batch number 0\n",
      "Our inputs are tensor([[1., 1.],\n",
      "        [0., 1.]])\n",
      "Our labels are tensor([[0.],\n",
      "        [1.]])\n",
      "Our outputs are tensor([[0.5602],\n",
      "        [0.5533]], grad_fn=<SigmoidBackward0>)\n",
      "tensor(0.2567, grad_fn=<MseLossBackward0>)\n",
      "tensor(-0., grad_fn=<DivBackward1>)\n"
     ]
    }
   ],
   "source": [
    "from torch.nn import CrossEntropyLoss, MSELoss\n",
    "\n",
    "mse_loss = MSELoss()\n",
    "ce_loss = CrossEntropyLoss()\n",
    "\n",
    "for batch_id, data in enumerate(data_loader):\n",
    "    print(\"#\" * 30)\n",
    "    print(f\"Batch number {batch_id}\")\n",
    "    samples, labels = data\n",
    "    print(\"Our inputs are\", samples)\n",
    "    print(\"Our labels are\", labels)\n",
    "    # Lets try to feed all of the samples at the same time\n",
    "    outputs = model(samples)\n",
    "    print(\"Our outputs are\", outputs)\n",
    "    \n",
    "    loss_1 = mse_loss(outputs, labels)\n",
    "    # Compute the loss\n",
    "    print(loss_1)\n",
    "    \n",
    "    print(ce_loss(outputs, labels))\n",
    "    \n",
    "    \n",
    "    \n",
    "    # Lets stop here\n",
    "    break"
   ]
  },
  {
   "cell_type": "markdown",
   "id": "9d694aa6",
   "metadata": {},
   "source": [
    "### 4.2 The optimizer\n",
    "\n",
    "We now have our inputs, outputs and a loss that tells us how wrong we are.\n",
    "\n",
    "Now we need to take that information to actually update (optimize) the weights of our network.\n",
    "\n",
    "If in doubt always use Adam"
   ]
  },
  {
   "cell_type": "code",
   "execution_count": 10,
   "id": "af1dd760",
   "metadata": {
    "ExecuteTime": {
     "end_time": "2024-05-17T16:46:02.972666Z",
     "start_time": "2024-05-17T16:46:01.245751Z"
    }
   },
   "outputs": [],
   "source": [
    "from torch.optim import AdamW\n",
    "\n",
    "# Create our optimizer (Adam) with a learning rate of 0.1\n",
    "optimizer = AdamW(model.parameters(), lr=0.1)\n",
    "# Notice how the optimizer knows about our model by giving the parameters?"
   ]
  },
  {
   "cell_type": "markdown",
   "id": "143b54f7",
   "metadata": {},
   "source": [
    "### 4.3 The training loop\n",
    "\n",
    "Now we can create our training loop for one epoch"
   ]
  },
  {
   "cell_type": "code",
   "execution_count": 11,
   "id": "136bb0d0",
   "metadata": {
    "ExecuteTime": {
     "end_time": "2024-05-17T16:46:02.994419Z",
     "start_time": "2024-05-17T16:46:02.975945Z"
    }
   },
   "outputs": [
    {
     "data": {
      "text/plain": [
       "[0.2626611292362213, 0.2513211965560913]"
      ]
     },
     "execution_count": 11,
     "metadata": {},
     "output_type": "execute_result"
    }
   ],
   "source": [
    "model = XORClassifier()\n",
    "\n",
    "batch_losses = []\n",
    "\n",
    "for batch_id, data in enumerate(data_loader):\n",
    "    samples, labels = data\n",
    "    outputs = model(samples)\n",
    "    \n",
    "    # We need to zero our gradients for every batch!\n",
    "    optimizer.zero_grad()\n",
    "    \n",
    "    # Calculate loss\n",
    "    loss = mse_loss(outputs, labels)\n",
    "    \n",
    "    # Calculate gradient from loss\n",
    "    loss.backward()\n",
    "    \n",
    "    # Update weights\n",
    "    optimizer.step()\n",
    "    \n",
    "    # Record the loss\n",
    "    batch_losses.append(loss.item())\n",
    "    \n",
    "batch_losses "
   ]
  },
  {
   "cell_type": "markdown",
   "id": "a0d387ed",
   "metadata": {},
   "source": [
    "### 4.4 The full loop with epochs"
   ]
  },
  {
   "cell_type": "code",
   "execution_count": 12,
   "id": "f2d727a1",
   "metadata": {
    "ExecuteTime": {
     "end_time": "2024-05-17T16:46:05.771533Z",
     "start_time": "2024-05-17T16:46:02.998495Z"
    }
   },
   "outputs": [],
   "source": [
    "model = XORClassifier()\n",
    "\n",
    "optimizer = AdamW(model.parameters(), lr=0.1)\n",
    "\n",
    "mse_loss = MSELoss()\n",
    "\n",
    "def train_for_n_epochs(epochs, data_loader, loss_fn, model, optimizer):\n",
    "    epoch_losses = []\n",
    "\n",
    "    for epoch in range(epochs):\n",
    "        batch_losses = []\n",
    "\n",
    "        for batch_id, data in enumerate(data_loader):\n",
    "            samples, labels = data\n",
    "            outputs = model(samples)\n",
    "\n",
    "            # We need to zero our gradients for every batch!\n",
    "            optimizer.zero_grad()\n",
    "\n",
    "            # Calculate loss\n",
    "            loss = loss_fn(outputs, labels)\n",
    "\n",
    "            # Calculate gradient from loss\n",
    "            loss.backward()\n",
    "\n",
    "            # Update weights\n",
    "            optimizer.step()\n",
    "\n",
    "            # Record the loss\n",
    "            batch_losses.append(loss.item())\n",
    "\n",
    "        epoch_losses.append(sum(batch_losses) / len(batch_losses))\n",
    "        \n",
    "    return epoch_losses\n",
    "\n",
    "losses = train_for_n_epochs(1000, data_loader, mse_loss, model, optimizer)"
   ]
  },
  {
   "cell_type": "code",
   "execution_count": 13,
   "id": "8ff2a77f",
   "metadata": {
    "ExecuteTime": {
     "end_time": "2024-05-17T16:46:06.708144Z",
     "start_time": "2024-05-17T16:46:05.774925Z"
    }
   },
   "outputs": [
    {
     "data": {
      "image/png": "[encoded data removed]",
      "text/plain": [
       "<Figure size 640x480 with 1 Axes>"
      ]
     },
     "metadata": {},
     "output_type": "display_data"
    }
   ],
   "source": [
    "import matplotlib.pyplot as plt\n",
    "\n",
    "plt.plot(losses)\n",
    "\n",
    "plt.grid()\n",
    "plt.xlabel(\"Epoch\")\n",
    "plt.ylabel(\"MSE Loss\")\n",
    "plt.title(\"Loss for XOR Classifier\")\n",
    "\n",
    "plt.show()"
   ]
  },
  {
   "cell_type": "code",
   "execution_count": 14,
   "id": "63a1ed5e",
   "metadata": {
    "ExecuteTime": {
     "end_time": "2024-05-17T16:46:06.738423Z",
     "start_time": "2024-05-17T16:46:06.717925Z"
    }
   },
   "outputs": [
    {
     "name": "stdout",
     "output_type": "stream",
     "text": [
      "tensor([0., 1.]) tensor([0.9719], grad_fn=<SigmoidBackward0>) tensor([1.])\n",
      "tensor([1., 0.]) tensor([0.9771], grad_fn=<SigmoidBackward0>) tensor([1.])\n",
      "tensor([1., 1.]) tensor([0.0462], grad_fn=<SigmoidBackward0>) tensor([0.])\n",
      "tensor([0., 0.]) tensor([0.0242], grad_fn=<SigmoidBackward0>) tensor([0.])\n"
     ]
    }
   ],
   "source": [
    "for data in xor_dataset:\n",
    "    samples, labels = data\n",
    "    output = model(samples)\n",
    "    print(samples, output, labels)"
   ]
  },
  {
   "cell_type": "markdown",
   "id": "5c7f90e0",
   "metadata": {},
   "source": [
    "## 5. Some experiments"
   ]
  },
  {
   "cell_type": "code",
   "execution_count": 15,
   "id": "a86e9989",
   "metadata": {
    "ExecuteTime": {
     "end_time": "2024-05-17T16:46:08.839280Z",
     "start_time": "2024-05-17T16:46:06.744606Z"
    }
   },
   "outputs": [
    {
     "data": {
      "image/png": "[encoded data removed]",
      "text/plain": [
       "<Figure size 640x480 with 1 Axes>"
      ]
     },
     "metadata": {},
     "output_type": "display_data"
    }
   ],
   "source": [
    "import numpy as np\n",
    "\n",
    "loss_dict = dict()\n",
    "\n",
    "for learning_rate in np.linspace(0.001, 1, 5):\n",
    "    model = XORClassifier()\n",
    "    optimizer = AdamW(model.parameters(), lr=learning_rate)\n",
    "    loss_fn = MSELoss()\n",
    "    \n",
    "    losses = train_for_n_epochs(100, model=model, data_loader=data_loader, optimizer=optimizer, loss_fn=loss_fn)\n",
    "    \n",
    "    loss_dict[learning_rate] = losses\n",
    "    \n",
    "    \n",
    "for key, value in loss_dict.items():\n",
    "    plt.plot(value, label=key)\n",
    "    \n",
    "    \n",
    "plt.grid()\n",
    "plt.xlabel(\"Epoch\")\n",
    "plt.ylabel(\"MSE Loss\")\n",
    "plt.title(\"Loss for XOR Classifier\")\n",
    "plt.legend()\n",
    "plt.yscale(\"log\")\n",
    "plt.show()"
   ]
  }
 ],
 "metadata": {
  "kernelspec": {
   "display_name": "Python 3 (ipykernel)",
   "language": "python",
   "name": "python3"
  },
  "language_info": {
   "codemirror_mode": {
    "name": "ipython",
    "version": 3
   },
   "file_extension": ".py",
   "mimetype": "text/x-python",
   "name": "python",
   "nbconvert_exporter": "python",
   "pygments_lexer": "ipython3",
   "version": "3.11.4"
  }
 },
 "nbformat": 4,
 "nbformat_minor": 5
}
