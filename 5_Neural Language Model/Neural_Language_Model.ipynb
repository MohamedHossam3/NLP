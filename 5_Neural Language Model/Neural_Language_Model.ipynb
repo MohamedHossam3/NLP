{
 "cells": [
  {
   "cell_type": "markdown",
   "id": "powered-slide",
   "metadata": {
    "deletable": false,
    "editable": false,
    "nbassignment": {
     "type": "header"
    },
    "nbgrader": {
     "cell_type": "markdown",
     "checksum": "83560d10c57e16719b86528c23a3d549",
     "grade": false,
     "grade_id": "template_886979f3_0",
     "locked": true,
     "schema_version": 3,
     "solution": false,
     "task": false
    }
   },
   "source": [
    "<div class=\"alert alert-block alert-info\">\n",
    "    <h1>Natural Language Processing</h1>\n",
    "    Assignment 05\n",
    "    <h3>General Information:</h3>\n",
    "    <p>Please do not add or delete any cells. Answers belong into the corresponding cells (below the question). If a function is given (either as a signature or a full function), you should not change the name, arguments or return value of the function.<br><br> If you encounter empty cells underneath the answer that can not be edited, please ignore them, they are for testing purposes.<br><br>When editing an assignment there can be the case that there are variables in the kernel. To make sure your assignment works, please restart the kernel and run all cells before submitting (e.g. via <i>Kernel -> Restart & Run All</i>).</p>\n",
    "    <p>Code cells where you are supposed to give your answer often include the line  ```raise NotImplementedError```. This makes it easier to automatically grade answers. If you edit the cell please outcomment or delete this line.</p>\n",
    "    <h3>Submission:</h3>\n",
    "    <p>Please submit your notebook via the web interface (in the main view -> Assignments -> Submit). The assignments are due on <b>Monday at 13:00</b>.</p>\n",
    "    <h3>Group Work:</h3>\n",
    "    <p>You are allowed to work in groups of up to three people. Please enter the UID (your username here) of each member of the group into the next cell. We apply plagiarism checking, so do not submit solutions from other people except your team members. If an assignment has a copied solution, the task will be graded with 0 points for all people with the same solution.</p>\n",
    "    <h3>Questions about the Assignment:</h3>\n",
    "    <p>If you have questions about the assignment please post them in the LEA forum before the deadline. Don't wait until the last day to post questions.</p>\n",
    "    \n",
    "</div>"
   ]
  },
  {
   "cell_type": "code",
   "execution_count": 41,
   "id": "controversial-biography",
   "metadata": {
    "ExecuteTime": {
     "end_time": "2024-05-21T12:20:24.183088Z",
     "start_time": "2024-05-21T12:20:24.173447Z"
    },
    "nbassignment": {
     "type": "group_info"
    }
   },
   "outputs": [],
   "source": [
    "'''\n",
    "Group Work:\n",
    "Enter the username of each team member into the variables. \n",
    "If you work alone please leave the other variables empty.\n",
    "'''\n",
    "member1 = 'mfarra2s'\n",
    "member2 = 'rhusai2s'\n",
    "member3 = ''"
   ]
  },
  {
   "cell_type": "markdown",
   "id": "4e82f4b5",
   "metadata": {
    "deletable": false,
    "editable": false,
    "nbgrader": {
     "cell_type": "markdown",
     "checksum": "849d26716a43b4837bbcdd92a049975d",
     "grade": false,
     "grade_id": "NeuralLanguageModel2_ANeuralLanguageModel2_BNeuralLanguageModel2_CNeuralLanguageModel2_DNeuralLanguageModel2_ENeuralLanguageModel2_F_Header",
     "locked": true,
     "schema_version": 3,
     "solution": false,
     "task": false
    }
   },
   "source": [
    "# Neural Language Model\n",
    "\n",
    "In this task we want to implement the neural language model given in chapter 7 of the book (p. 16) using PyTorch.\n",
    "\n",
    "<img src=\"Neural_Language_Model_files/img/model.png\">\n",
    "\n",
    "© Tim Metzler, Hochschule Bonn-Rhein-Sieg"
   ]
  },
  {
   "cell_type": "markdown",
   "id": "4b9efb41",
   "metadata": {
    "deletable": false,
    "editable": false,
    "nbgrader": {
     "cell_type": "markdown",
     "checksum": "ac50d69bde457ff1a1e71c59cb9a9ef2",
     "grade": false,
     "grade_id": "NeuralLanguageModel2_A_Description0",
     "locked": true,
     "schema_version": 3,
     "solution": false,
     "task": false
    }
   },
   "source": [
    "## Helper Functions\n",
    "\n",
    "You are given some helper functions to make this assignment easier.\n",
    "\n",
    "First a tokenizer that turns strings into lists of token ids."
   ]
  },
  {
   "cell_type": "code",
   "execution_count": 42,
   "id": "22878dbf",
   "metadata": {
    "ExecuteTime": {
     "end_time": "2024-05-21T12:20:24.241176Z",
     "start_time": "2024-05-21T12:20:24.188889Z"
    },
    "deletable": false,
    "editable": false,
    "nbgrader": {
     "cell_type": "code",
     "checksum": "00282df7b703ee93b27d41777bc6d225",
     "grade": false,
     "grade_id": "NeuralLanguageModel2_A_Description1",
     "locked": true,
     "schema_version": 3,
     "solution": false,
     "task": false
    }
   },
   "outputs": [],
   "source": [
    "from tokenizers import Tokenizer\n",
    "from tokenizers.models import WordLevel\n",
    "from tokenizers.trainers import WordLevelTrainer\n",
    "from tokenizers.pre_tokenizers import Whitespace\n",
    "from typing import List\n",
    "\n",
    "def tokenizer_from_strings(strings: List[str], vocab_size: int = None) -> Tokenizer:\n",
    "    \"\"\"\n",
    "    Create and train a WordLevel Tokenizer for tokenizing text from the given strings.\n",
    "\n",
    "    Args:\n",
    "        strings (List[str]): A list of strings containing the text data for training.\n",
    "        vocab_size (int, optional): The maximum vocabulary size to limit the number of tokens\n",
    "                                    in the tokenizer. If None, the vocabulary size is determined automatically.\n",
    "                                    Defaults to None.\n",
    "\n",
    "    Returns:\n",
    "        Tokenizer: A trained WordLevel Tokenizer capable of tokenizing text data.    \n",
    "    \"\"\"    \n",
    "    tokenizer = Tokenizer(WordLevel(unk_token=\"[UNK]\"))\n",
    "\n",
    "    # We can also pass a vocab_size to the trainer to only keep the most frequent words\n",
    "    # Special tokens are tokens that we want to use but are not part of the text we train on\n",
    "    trainer = WordLevelTrainer(\n",
    "        special_tokens=[\"[UNK]\", \"<s>\", \"</s>\"], \n",
    "    )\n",
    "    if vocab_size is not None:\n",
    "        trainer.vocab_size = vocab_size\n",
    "    tokenizer.pre_tokenizer = Whitespace()\n",
    "    tokenizer.train_from_iterator(strings, trainer=trainer)\n",
    "    return tokenizer\n"
   ]
  },
  {
   "cell_type": "code",
   "execution_count": 43,
   "id": "7ce2dd3d",
   "metadata": {
    "ExecuteTime": {
     "end_time": "2024-05-21T12:20:24.316871Z",
     "start_time": "2024-05-21T12:20:24.247115Z"
    },
    "deletable": false,
    "editable": false,
    "nbgrader": {
     "cell_type": "code",
     "checksum": "5cef62593015d9f5a1b67816c337e77b",
     "grade": false,
     "grade_id": "NeuralLanguageModel2_A_Description2",
     "locked": true,
     "schema_version": 3,
     "solution": false,
     "task": false
    }
   },
   "outputs": [
    {
     "name": "stdout",
     "output_type": "stream",
     "text": [
      "The vocabulary\n",
      "{'is': 4, '</': 8, 'also': 13, 's': 5, '</s>': 2, 'But': 9, 'NLP': 12, 'It': 11, 'very': 18, 'it': 16, 'like': 17, 'I': 10, 'interesting': 15, '[UNK]': 0, '<s>': 1, '<': 7, '.': 6, 'hard': 14, '>': 3}\n",
      "\n",
      "The size of the vocabulary\n",
      "19\n",
      "\n",
      "The tokens from our input string\n",
      "['NLP', 'is', 'hard']\n",
      "\n",
      "The ids for the tokens\n",
      "[12, 4, 14]\n",
      "\n",
      "The tokens from our input string. Notice how everything unknown is represented as [UNK]\n",
      "['NLP', 'is', '[UNK]', '[UNK]', '[UNK]']\n",
      "\n",
      "The ids for the tokens\n",
      "[12, 4, 0, 0, 0]\n"
     ]
    },
    {
     "data": {
      "text/plain": [
       "'. also </'"
      ]
     },
     "execution_count": 43,
     "metadata": {},
     "output_type": "execute_result"
    }
   ],
   "source": [
    "# Example texts for our tokenizer. This can be a list of one our more documents\n",
    "my_text = [\n",
    "    \"<s> I like NLP. </s>\",\n",
    "    \"It is very interesting\",\n",
    "    \"But it is also hard\"\n",
    "]\n",
    "\n",
    "tokenizer = tokenizer_from_strings(my_text)\n",
    "\n",
    "# Let us look at our trained vocabulary\n",
    "print(\"The vocabulary\")\n",
    "print(tokenizer.get_vocab())\n",
    "\n",
    "# Size of the vocabulary\n",
    "print(\"\\nThe size of the vocabulary\")\n",
    "print(tokenizer.get_vocab_size())\n",
    "\n",
    "# Now lets turn a sentence into a list of token indices\n",
    "encoded_input = tokenizer.encode(\"NLP is hard\")\n",
    "\n",
    "# This is how it splits it into tokens\n",
    "print(\"\\nThe tokens from our input string\")\n",
    "print(encoded_input.tokens)\n",
    "# This is how we get the ids\n",
    "print(\"\\nThe ids for the tokens\")\n",
    "print(encoded_input.ids)\n",
    "\n",
    "# Let us look what happens if we put in unknown words\n",
    "encoded_input = tokenizer.encode(\"NLP is a tough subject\")\n",
    "print(\"\\nThe tokens from our input string. Notice how everything unknown is represented as [UNK]\")\n",
    "print(encoded_input.tokens)\n",
    "print(\"\\nThe ids for the tokens\")\n",
    "print(encoded_input.ids)\n",
    "\n",
    "# Finally we can also turn back ids into strings\n",
    "tokenizer.decode([6, 13, 8])"
   ]
  },
  {
   "cell_type": "markdown",
   "id": "d5ff0c4b",
   "metadata": {
    "deletable": false,
    "editable": false,
    "nbgrader": {
     "cell_type": "markdown",
     "checksum": "830499bd68d9810f84975b80e6ae4cd6",
     "grade": false,
     "grade_id": "NeuralLanguageModel2_A_Description3",
     "locked": true,
     "schema_version": 3,
     "solution": false,
     "task": false
    }
   },
   "source": [
    "## Neural Language Model A)\n",
    "### One Hot Encoder\n",
    "\n",
    "First we create a one-hot encoder that produces tensors. We will use the built-in function `torch.nn.functional.one_hot` to create our embeddings.\n",
    "\n",
    "First look at the example in the following cell.\n",
    "\n",
    "Then complete the class `OneHotEncoder` below. You need to implement the method `encode`, which encodes a single index into a one-hot embedding and the method `encode_sequence`, which will take a list of indices and should return a list of one-hot embeddings."
   ]
  },
  {
   "cell_type": "code",
   "execution_count": 44,
   "id": "d955f9c8",
   "metadata": {
    "ExecuteTime": {
     "end_time": "2024-05-21T12:20:24.374906Z",
     "start_time": "2024-05-21T12:20:24.327320Z"
    },
    "deletable": false,
    "editable": false,
    "nbgrader": {
     "cell_type": "code",
     "checksum": "c370ed4086a04e8da5657a48444a307f",
     "grade": false,
     "grade_id": "NeuralLanguageModel2_A_Description4",
     "locked": true,
     "schema_version": 3,
     "solution": false,
     "task": false
    }
   },
   "outputs": [
    {
     "name": "stdout",
     "output_type": "stream",
     "text": [
      "tensor([0., 0., 0., 0., 0., 1., 0., 0., 0., 0., 0., 0., 0., 0., 0., 0., 0., 0.,\n",
      "        0., 0.])\n",
      "torch.Size([20])\n",
      "tensor(5)\n"
     ]
    }
   ],
   "source": [
    "from torch import tensor\n",
    "from torch.nn.functional import one_hot\n",
    "\n",
    "index = 5\n",
    "vocab_size = 20\n",
    "\n",
    "my_one_hot_embedding = one_hot(\n",
    "    tensor(index),\n",
    "    num_classes=vocab_size\n",
    ").float()\n",
    "\n",
    "print(my_one_hot_embedding)          # The embedding\n",
    "print(my_one_hot_embedding.shape)    # The size of the embedding\n",
    "print(my_one_hot_embedding.argmax()) # The index of the 1"
   ]
  },
  {
   "cell_type": "code",
   "execution_count": 45,
   "id": "6a1471dd",
   "metadata": {
    "ExecuteTime": {
     "end_time": "2024-05-21T12:20:24.417088Z",
     "start_time": "2024-05-21T12:20:24.379076Z"
    },
    "deletable": false,
    "nbgrader": {
     "cell_type": "code",
     "checksum": "dc1037869bbf31b6e712a9f984faa2f8",
     "grade": false,
     "grade_id": "NeuralLanguageModel2_A",
     "locked": false,
     "schema_version": 3,
     "solution": true,
     "task": false
    }
   },
   "outputs": [],
   "source": [
    "from torch.nn.functional import one_hot\n",
    "from torch import tensor, float32\n",
    "from typing import List\n",
    "\n",
    "class OneHotEncoder:\n",
    "    \n",
    "    def __init__(self, vocab_size: int):\n",
    "        \"\"\"\n",
    "        OneHotEncoder class for converting token IDs to one-hot encoded tensors.\n",
    "\n",
    "        Args:\n",
    "            vocab_size (int): The size of the vocabulary, i.e., the number of unique tokens.\n",
    "        \"\"\"\n",
    "        self.vocab_size = vocab_size\n",
    "        \n",
    "    def encode(self, token_id: int) -> tensor:\n",
    "        \"\"\"\n",
    "        Encode a single token ID as a one-hot encoded tensor.\n",
    "\n",
    "        Args:\n",
    "            token_id (int): The token ID to be encoded.\n",
    "\n",
    "        Returns:\n",
    "            tensor: The one-hot encoded tensor representing the input token ID.\n",
    "        \"\"\"\n",
    "        return one_hot(tensor(token_id), num_classes= self.vocab_size).float()\n",
    "    \n",
    "    def encode_sequence(self, token_ids: List[int]) -> List[tensor]:\n",
    "        \"\"\"\n",
    "        Encode a sequence of token IDs as a list of one-hot encoded tensors.\n",
    "\n",
    "        Args:\n",
    "            token_ids (List[int]): A list of token IDs to be encoded.\n",
    "\n",
    "        Returns:\n",
    "            List[tensor]: A list of one-hot encoded tensors representing the input token IDs.\n",
    "        \"\"\"\n",
    "        embedings = []\n",
    "        for ind in token_ids:\n",
    "            embedings.append(one_hot(tensor(ind), num_classes= self.vocab_size).float())\n",
    "            \n",
    "        return embedings\n",
    "            "
   ]
  },
  {
   "cell_type": "code",
   "execution_count": 46,
   "id": "9299b8c1",
   "metadata": {
    "ExecuteTime": {
     "end_time": "2024-05-21T12:20:24.472073Z",
     "start_time": "2024-05-21T12:20:24.423186Z"
    },
    "deletable": false,
    "editable": false,
    "nbgrader": {
     "cell_type": "code",
     "checksum": "cb75d514d81d6ba6e4b2d4ac5bdb0fde",
     "grade": true,
     "grade_id": "test_NeuralLanguageModel2_A0",
     "locked": true,
     "points": 10,
     "schema_version": 3,
     "solution": false,
     "task": false
    }
   },
   "outputs": [],
   "source": [
    "# This is for you to test if your implementation is working\n",
    "\n",
    "vocabulary_size = 50\n",
    "\n",
    "encoder = OneHotEncoder(vocabulary_size)\n",
    "\n",
    "# Test with a single index\n",
    "embedding = encoder.encode(5)\n",
    "\n",
    "assert embedding.shape[0] == vocabulary_size, \"All embeddings should have the size of the vocabulary\"\n",
    "assert embedding.argmax() == 5, \"The single one should be at index 5\"\n",
    "\n",
    "# Test with a list of indices\n",
    "indices = [5, 3, 7]\n",
    "embeddings = encoder.encode_sequence(indices)\n",
    "\n",
    "assert len(embeddings) == 3, \"We put in three indices so we want three embeddings\"\n",
    "assert isinstance(embeddings, list), \"We want to return a list\"\n",
    "\n",
    "for idx, embedding in zip(indices, embeddings):\n",
    "    assert embedding.shape[0] == vocabulary_size, \"All embeddings should have the size of the vocabulary\"\n",
    "    assert embedding.argmax() == idx, \"The single one should be at index 5\" \n",
    "\n"
   ]
  },
  {
   "cell_type": "markdown",
   "id": "237a7c19",
   "metadata": {
    "deletable": false,
    "editable": false,
    "nbgrader": {
     "cell_type": "markdown",
     "checksum": "bda438ee4d8fbb8c43eae13a4107cb35",
     "grade": false,
     "grade_id": "NeuralLanguageModel2_B_Description0",
     "locked": true,
     "schema_version": 3,
     "solution": false,
     "task": false
    }
   },
   "source": [
    "## Neural Language Model B)\n",
    "### The model\n",
    "\n",
    "Complete the model class below.\n",
    "\n",
    "**Hint: To get from three tensors of size $d$ to a tensor of size $3d$ we need to concatenate. See the next cell for an example**"
   ]
  },
  {
   "cell_type": "code",
   "execution_count": 47,
   "id": "827de221",
   "metadata": {
    "ExecuteTime": {
     "end_time": "2024-05-21T12:20:24.538981Z",
     "start_time": "2024-05-21T12:20:24.479183Z"
    },
    "deletable": false,
    "editable": false,
    "nbgrader": {
     "cell_type": "code",
     "checksum": "b945887dff3128f9807da3b84db4ef0a",
     "grade": false,
     "grade_id": "NeuralLanguageModel2_B_Description1",
     "locked": true,
     "schema_version": 3,
     "solution": false,
     "task": false
    }
   },
   "outputs": [
    {
     "name": "stdout",
     "output_type": "stream",
     "text": [
      "torch.Size([36])\n",
      "tensor([0., 0., 0., 0., 0., 1., 0., 0., 0., 0., 0., 0., 0., 0., 0., 1., 0., 0.,\n",
      "        0., 0., 0., 0., 0., 0., 0., 0., 0., 0., 0., 0., 0., 1., 0., 0., 0., 0.])\n"
     ]
    }
   ],
   "source": [
    "import torch\n",
    "\n",
    "# Create our encoder and encode three indices\n",
    "encoder = OneHotEncoder(12)\n",
    "indices = [5, 3, 7]\n",
    "embedding1, embedding2, embedding3 = encoder.encode_sequence(indices)\n",
    "\n",
    "# Concatenate them into a single embedding of size 3*vocab_size\n",
    "concatenated_embeddings = torch.concatenate((embedding1, embedding2, embedding3))\n",
    "\n",
    "print(concatenated_embeddings.shape) # This is three times our vocabulary size\n",
    "print(concatenated_embeddings)"
   ]
  },
  {
   "cell_type": "code",
   "execution_count": 48,
   "id": "928b5ef5",
   "metadata": {
    "ExecuteTime": {
     "end_time": "2024-05-21T12:20:24.613485Z",
     "start_time": "2024-05-21T12:20:24.545778Z"
    },
    "deletable": false,
    "nbgrader": {
     "cell_type": "code",
     "checksum": "8d4cff6bc22861264629dc8752249d7f",
     "grade": false,
     "grade_id": "NeuralLanguageModel2_B",
     "locked": false,
     "schema_version": 3,
     "solution": true,
     "task": false
    }
   },
   "outputs": [],
   "source": [
    "import torch.nn as nn\n",
    "from torch import TensorType\n",
    "\n",
    "class NeuralLanguageModel(nn.Module):\n",
    "    \"\"\"\n",
    "    A neural language model that predicts a word from two input words\n",
    "    \"\"\"\n",
    "    \n",
    "    def __init__(self, vocab_size: int, embedding_size: int, hidden_size: int):\n",
    "        \"\"\"\n",
    "        Initializes the NeuralLanguageModel.\n",
    "\n",
    "        Args:\n",
    "            vocab_size (int): The size of the vocabulary.\n",
    "            embedding_size (int): The size of word embeddings.\n",
    "            hidden_size (int): The size of the hidden layer\n",
    "        \"\"\"\n",
    "        super().__init__()\n",
    "        self.vocab_size = vocab_size\n",
    "        self.embedding_size = embedding_size\n",
    "        self.hidden_size = hidden_size\n",
    "        \n",
    "        # Create your layers here. All layers are linear\n",
    "        # We want an embedding layer\n",
    "        self.embedding = nn.Linear(self.vocab_size, self.embedding_size)\n",
    "        # Then a hidden layer\n",
    "        self.hidden = nn.Linear(3*self.embedding_size, self.hidden_size)\n",
    "        # Then an output layer\n",
    "        self.output = nn.Linear(self.hidden_size,self.vocab_size)\n",
    "        # Then we define our activation functions and the softmax\n",
    "        self.activation = nn.ReLU()\n",
    "        self.softmax = nn.Softmax()\n",
    "        \n",
    "        \n",
    "    def forward(\n",
    "        self, \n",
    "        word1: TensorType, \n",
    "        word2: TensorType, \n",
    "        word3: TensorType, \n",
    "        inference: bool=False\n",
    "    ) -> TensorType:\n",
    "        \"\"\"\n",
    "        Forward pass of the neural language model.\n",
    "\n",
    "        Args:\n",
    "            word1 (torch.TensorType): Tensor representing the first word (one-hot).\n",
    "            word2 (torch.TensorType): Tensor representing the second word (one-hot).\n",
    "            word3 (torch.TensorType): Tensor representing the third word (one-hot).\n",
    "            inference (bool, optional): Flag representing if we are doing inference or not.\n",
    "                                        This is needed since during training PyTorch does not work well with\n",
    "                                        the softmax. \n",
    "\n",
    "        Returns:\n",
    "            torch.TensorType: Output tensor representing the probability distribution over the vocabulary.\n",
    "        \"\"\"\n",
    "        # This will be our output\n",
    "        x1 = self.embedding(word1)\n",
    "        x2 = self.embedding(word2)\n",
    "        x3 = self.embedding(word3)\n",
    "        y = torch.cat((x1, x2, x3), dim=-1)\n",
    "        \n",
    "#         x = torch.concatenate((word1, word2, word3))\n",
    "#         print(word1.shape)\n",
    "#         print(x.shape)\n",
    "#         y = self.embedding(x)\n",
    "        y = self.hidden(y)\n",
    "        y = self.activation(y)\n",
    "        y = self.output(y)       \n",
    "        \n",
    "        # The loss we will use later does not play well with softmax. \n",
    "        # So we only apply it for inferencing\n",
    "        if inference:\n",
    "            y = self.softmax(y)        \n",
    "        return y"
   ]
  },
  {
   "cell_type": "code",
   "execution_count": 49,
   "id": "68515b9f",
   "metadata": {
    "ExecuteTime": {
     "end_time": "2024-05-21T12:20:24.689683Z",
     "start_time": "2024-05-21T12:20:24.619804Z"
    },
    "deletable": false,
    "editable": false,
    "nbgrader": {
     "cell_type": "code",
     "checksum": "107e27e53aee57e5f853ba49dca85796",
     "grade": true,
     "grade_id": "test_NeuralLanguageModel2_B0",
     "locked": true,
     "points": 25,
     "schema_version": 3,
     "solution": false,
     "task": false
    }
   },
   "outputs": [
    {
     "name": "stdout",
     "output_type": "stream",
     "text": [
      "tensor([ 0.0740,  0.0229,  0.1719,  0.0541, -0.0604,  0.1465, -0.3477, -0.1297,\n",
      "         0.2599, -0.2497,  0.2973, -0.1395, -0.1857,  0.2469,  0.0942, -0.1472,\n",
      "         0.1477, -0.2054, -0.2845, -0.3283,  0.0500, -0.2007,  0.1455, -0.2583,\n",
      "         0.0714,  0.0671, -0.2971, -0.1860,  0.2659,  0.0637,  0.1151,  0.1627,\n",
      "        -0.2914, -0.0198, -0.3259, -0.2389, -0.2950, -0.0595,  0.0064,  0.2538,\n",
      "         0.1873,  0.0719,  0.2822, -0.2693, -0.2765,  0.1144, -0.2607, -0.0305,\n",
      "         0.0829, -0.2906], grad_fn=<ViewBackward0>)\n",
      "tensor([0.0219, 0.0209, 0.0242, 0.0215, 0.0192, 0.0236, 0.0144, 0.0179, 0.0264,\n",
      "        0.0159, 0.0274, 0.0177, 0.0169, 0.0261, 0.0224, 0.0176, 0.0236, 0.0166,\n",
      "        0.0153, 0.0147, 0.0214, 0.0167, 0.0236, 0.0157, 0.0219, 0.0218, 0.0151,\n",
      "        0.0169, 0.0266, 0.0217, 0.0229, 0.0240, 0.0152, 0.0200, 0.0147, 0.0160,\n",
      "        0.0152, 0.0192, 0.0205, 0.0263, 0.0246, 0.0219, 0.0270, 0.0156, 0.0155,\n",
      "        0.0229, 0.0157, 0.0198, 0.0221, 0.0152], grad_fn=<SoftmaxBackward0>)\n"
     ]
    },
    {
     "name": "stderr",
     "output_type": "stream",
     "text": [
      "/opt/conda/lib/python3.11/site-packages/torch/nn/modules/module.py:1511: UserWarning: Implicit dimension choice for softmax has been deprecated. Change the call to include dim=X as an argument.\n",
      "  return self._call_impl(*args, **kwargs)\n"
     ]
    }
   ],
   "source": [
    "# This is to test your implementation\n",
    "\n",
    "# First create the model\n",
    "vocab_size = 50\n",
    "model = NeuralLanguageModel(\n",
    "    vocab_size=vocab_size,\n",
    "    embedding_size=16,\n",
    "    hidden_size=10\n",
    ")\n",
    "\n",
    "# Next create some inputs for our model\n",
    "encoder = OneHotEncoder(vocab_size)\n",
    "\n",
    "word1, word2, word3 = encoder.encode_sequence([3, 7, 2])\n",
    "\n",
    "# Now we feed it to our model\n",
    "output = model(word1, word2, word3)\n",
    "\n",
    "print(output)\n",
    "assert output.shape[0] == vocab_size, \"Our output should have the size of the vocabulary\"\n",
    "\n",
    "# Next we do the same for inference (we check if the softmax is applied then)\n",
    "output = model(word1, word2, word3, inference=True)\n",
    "print(output)\n",
    "\n",
    "assert abs(output.sum().item() - 1) < 10e-6, \"The outputs should sum up to 1\"\n"
   ]
  },
  {
   "cell_type": "markdown",
   "id": "e97d1573",
   "metadata": {
    "deletable": false,
    "editable": false,
    "nbgrader": {
     "cell_type": "markdown",
     "checksum": "ba3fd369d746067a08c046aa6e71c081",
     "grade": false,
     "grade_id": "NeuralLanguageModel2_C_Description0",
     "locked": true,
     "schema_version": 3,
     "solution": false,
     "task": false
    }
   },
   "source": [
    "## The Dataset\n",
    "\n",
    "The dataset class was already implemented for you. Look at it and understand what it does."
   ]
  },
  {
   "cell_type": "code",
   "execution_count": 50,
   "id": "158c9d99",
   "metadata": {
    "ExecuteTime": {
     "end_time": "2024-05-21T12:20:24.736495Z",
     "start_time": "2024-05-21T12:20:24.696262Z"
    },
    "deletable": false,
    "editable": false,
    "nbgrader": {
     "cell_type": "code",
     "checksum": "327127de9c891d005e0608bfe5ae20a7",
     "grade": false,
     "grade_id": "NeuralLanguageModel2_C_Description1",
     "locked": true,
     "schema_version": 3,
     "solution": false,
     "task": false
    }
   },
   "outputs": [],
   "source": [
    "from torch.utils.data import Dataset, DataLoader\n",
    "from typing import List, Any, Tuple\n",
    "\n",
    "def sliding_window(sequence: List[Any], window_size: int) -> List[Any]:\n",
    "    \"\"\"\n",
    "    Generate a sliding window over a sequence (list).\n",
    "\n",
    "    Args:\n",
    "        sequence (list): The input sequence.\n",
    "        window_size (int): The size of the sliding window.\n",
    "\n",
    "    Yields:\n",
    "        list: A window of elements from the input sequence.\n",
    "    \"\"\"\n",
    "    for i in range(len(sequence) - window_size + 1):\n",
    "        yield sequence[i:i + window_size]\n",
    "        \n",
    "\n",
    "class NGramTextDataset(Dataset):\n",
    "    \"\"\"\n",
    "    A PyTorch Dataset class for generating trigram-based text datasets.\n",
    "\n",
    "    Args:\n",
    "        sentences (List[str]): A list of input sentences.\n",
    "        vocab_size (int, optional): The size of the vocabulary to use for tokenization.\n",
    "                                    Defaults to None.\n",
    "\n",
    "    Methods:\n",
    "        __len__(self) -> int: Returns the total number of examples in the dataset.\n",
    "\n",
    "        __getitem__(self, index: int) -> Tuple[List[int], int]:\n",
    "            Returns a tuple containing the input trigram and its corresponding label for the specified index.\n",
    "\n",
    "    Example:\n",
    "        sentences = [\"This is a sample sentence.\", \"Another example sentence.\"]\n",
    "        dataset = TrigramTextDataset(sentences, vocab_size=10000)\n",
    "        dataloader = DataLoader(dataset, batch_size=64, shuffle=True)\n",
    "    \"\"\"\n",
    "    \n",
    "    def __init__(self, sentences: List[str], vocab_size: int=None):\n",
    "        \"\"\"\n",
    "        Initializes the TrigramTextDataset with input sentences and vocabulary size.\n",
    "\n",
    "        Args:\n",
    "            sentences (List[str]): A list of input sentences.\n",
    "            vocab_size (int, optional): The size of the vocabulary to use for tokenization.\n",
    "                                        Defaults to None.\n",
    "        \"\"\"\n",
    "        # First augment the sentences with a start and end symbol\n",
    "        # We add three of each since we look at four grams\n",
    "        sentences = [\n",
    "            '<s> <s> <s>' + sentence + ' </s> </s> </s>'\n",
    "            for sentence in sentences\n",
    "        ]\n",
    "        # Next we train our tokenizer\n",
    "        self.tokenizer = tokenizer_from_strings(sentences, vocab_size)\n",
    "        self.encoder = OneHotEncoder(self.tokenizer.get_vocab_size())\n",
    "        \n",
    "        # Prepare our examples\n",
    "        self.inputs = []\n",
    "        self.labels = []\n",
    "        \n",
    "        for sentence in sentences:\n",
    "            # Go over each trigram of the encoded sentence\n",
    "            for trigram in sliding_window(self.tokenizer.encode(sentence).ids, 4):\n",
    "                # Take the first two tokens as input\n",
    "                self.inputs.append(trigram[:-1])\n",
    "                # Take the last token as the label\n",
    "                self.labels.append(trigram[-1])\n",
    "                \n",
    "    def __len__(self) -> int:\n",
    "        \"\"\"\n",
    "        Returns the total number of examples in the dataset.\n",
    "\n",
    "        Returns:\n",
    "            int: The number of examples in the dataset.\n",
    "        \"\"\"\n",
    "        return len(self.labels)\n",
    "    \n",
    "    def __getitem__(self, index: int) -> Tuple[List[torch.tensor], torch.tensor]:\n",
    "        \"\"\"\n",
    "        Returns a tuple containing the input trigram and its corresponding label for the specified index.\n",
    "\n",
    "        Args:\n",
    "            index (int): The index of the example to retrieve.\n",
    "\n",
    "        Returns:\n",
    "            Tuple[List[int], int]: A tuple containing the input trigram (a list of integers) and\n",
    "            its corresponding label (an integer).\n",
    "        \"\"\"\n",
    "        return self.encoder.encode_sequence(self.inputs[index]), self.encoder.encode(self.labels[index])"
   ]
  },
  {
   "cell_type": "code",
   "execution_count": 51,
   "id": "a032dbc2",
   "metadata": {
    "ExecuteTime": {
     "end_time": "2024-05-21T12:20:25.457087Z",
     "start_time": "2024-05-21T12:20:24.740925Z"
    },
    "deletable": false,
    "editable": false,
    "nbgrader": {
     "cell_type": "code",
     "checksum": "0f1e62afd6ae18dd1805d80a2d5b2457",
     "grade": false,
     "grade_id": "NeuralLanguageModel2_C_Description2",
     "locked": true,
     "schema_version": 3,
     "solution": false,
     "task": false
    }
   },
   "outputs": [
    {
     "name": "stdout",
     "output_type": "stream",
     "text": [
      "[tensor([0., 0., 0.,  ..., 0., 0., 0.]), tensor([0., 0., 0.,  ..., 0., 0., 0.]), tensor([0., 0., 0.,  ..., 0., 0., 0.])]\n",
      "tensor([0., 0., 0.,  ..., 0., 0., 0.])\n"
     ]
    },
    {
     "data": {
      "text/plain": [
       "('Adrian Toomes and', 'his')"
      ]
     },
     "execution_count": 51,
     "metadata": {},
     "output_type": "execute_result"
    }
   ],
   "source": [
    "# Open our training data\n",
    "# This file has one sentence per line\n",
    "with open('/srv/shares/NLP/datasets/marvel/spider_man_homecoming.txt', 'r') as f:\n",
    "    text = f.read()\n",
    "    \n",
    "# Create the dataset\n",
    "dataset = NGramTextDataset(text.split(\"\\n\"))\n",
    "\n",
    "# Look at one example\n",
    "inputs, label = dataset[4]\n",
    "\n",
    "print(inputs)\n",
    "print(label)\n",
    "\n",
    "# We can also turn this back into strings using the tokenizer\n",
    "word1, word2, word3 = inputs\n",
    "\n",
    "# Turn the one-hot vectors back to indices\n",
    "indices = [\n",
    "    word1.argmax().item(),\n",
    "    word2.argmax().item(),\n",
    "    word3.argmax().item()\n",
    "]\n",
    "\n",
    "label_index = label.argmax().item()\n",
    "\n",
    "# Turn these indices back to strings\n",
    "dataset.tokenizer.decode(indices), dataset.tokenizer.decode([label_index])"
   ]
  },
  {
   "cell_type": "code",
   "execution_count": 52,
   "id": "bcf57ea7",
   "metadata": {
    "ExecuteTime": {
     "end_time": "2024-05-21T12:20:25.469913Z",
     "start_time": "2024-05-21T12:20:25.463425Z"
    }
   },
   "outputs": [
    {
     "name": "stdout",
     "output_type": "stream",
     "text": [
      "tensor([0., 0., 0.,  ..., 0., 0., 0.])\n"
     ]
    }
   ],
   "source": [
    "print(word1)"
   ]
  },
  {
   "cell_type": "markdown",
   "id": "16ff1ea1",
   "metadata": {
    "deletable": false,
    "editable": false,
    "nbgrader": {
     "cell_type": "markdown",
     "checksum": "4369b20cf1cccca31515536729316c04",
     "grade": false,
     "grade_id": "NeuralLanguageModel2_C_Description3",
     "locked": true,
     "schema_version": 3,
     "solution": false,
     "task": false
    }
   },
   "source": [
    "## Neural Language Model C)\n",
    "### The training loop and optimizer\n",
    "\n",
    "Please implement the training loop below. \n",
    "This method receives a model, an optimizer, a loss function and a dataloader."
   ]
  },
  {
   "cell_type": "code",
   "execution_count": 53,
   "id": "24233932",
   "metadata": {
    "ExecuteTime": {
     "end_time": "2024-05-21T12:20:25.526622Z",
     "start_time": "2024-05-21T12:20:25.473196Z"
    },
    "deletable": false,
    "nbgrader": {
     "cell_type": "code",
     "checksum": "0c6ab2d18ea653fa8b4864dfece3c515",
     "grade": true,
     "grade_id": "NeuralLanguageModel2_C",
     "locked": false,
     "points": 20,
     "schema_version": 3,
     "solution": true,
     "task": false
    }
   },
   "outputs": [],
   "source": [
    "from typing import List\n",
    "from torch.optim import Optimizer\n",
    "from torch.nn.modules.loss import _Loss\n",
    "import numpy as np\n",
    "\n",
    "def train_one_epoch(\n",
    "    model: nn.Module, \n",
    "    optimizer: Optimizer, \n",
    "    loss_fn: _Loss, \n",
    "    dataloader: DataLoader) -> float:\n",
    "    \"\"\"\n",
    "    Trains a neural network model for one epoch using the specified data.\n",
    "\n",
    "    Parameters:\n",
    "        model (nn.Module): The neural network model to be trained.\n",
    "        optimizer (Optimizer): The optimizer used for updating model weights.\n",
    "        loss_fn (_Loss): The loss function used to compute the training loss.\n",
    "        dataloader (DataLoader): The data loader providing batches of training data.\n",
    "\n",
    "    Returns:\n",
    "        float: The mean training loss for the entire epoch.\n",
    "    \"\"\"\n",
    "    batch_losses = []\n",
    "    \n",
    "    for batch_id, data in enumerate(dataloader):\n",
    "#         print(\"b\",batch_id)\n",
    "#         print(\"d\",data)\n",
    "\n",
    "        inputs, labels = data\n",
    "        word1, word2, word3 = inputs\n",
    "        print(word1)\n",
    "#         print(\"w\",word1[0])\n",
    "#         outputs = model(word1[0], word2[0], word3[0])\n",
    "\n",
    "        # We need to zero our gradients for every batch!\n",
    "        optimizer.zero_grad()\n",
    "\n",
    "        # Calculate loss\n",
    "        loss = loss_fn(outputs, labels[0])\n",
    "\n",
    "        # Calculate gradient from loss\n",
    "        loss.backward()\n",
    "\n",
    "        # Update weights\n",
    "        optimizer.step()\n",
    "\n",
    "        # Record the loss\n",
    "        batch_losses.append(loss.item())\n",
    "        \n",
    "        return np.mean(batch_losses)\n"
   ]
  },
  {
   "cell_type": "markdown",
   "id": "a6c4a386",
   "metadata": {
    "deletable": false,
    "editable": false,
    "nbgrader": {
     "cell_type": "markdown",
     "checksum": "1be88fed9845c2cc344acf72a37301dc",
     "grade": false,
     "grade_id": "NeuralLanguageModel2_D_Description0",
     "locked": true,
     "schema_version": 3,
     "solution": false,
     "task": false
    }
   },
   "source": [
    "## Neural Language Model D)\n",
    "### Creating the optimizer, loss, model and dataloader\n",
    "\n",
    "Use a batch size of 256 for your data loader.\n",
    "\n",
    "Initialize your model with an embedding size of 8 and a hidden size of 12.\n",
    "\n",
    "Use AdamW as your optimizer with a learning rate of 0.01.\n",
    "\n",
    "Use the CrossEntropyLoss as the loss function"
   ]
  },
  {
   "cell_type": "code",
   "execution_count": 54,
   "id": "d6a18636",
   "metadata": {
    "ExecuteTime": {
     "end_time": "2024-05-21T12:20:25.609164Z",
     "start_time": "2024-05-21T12:20:25.532477Z"
    },
    "deletable": false,
    "nbgrader": {
     "cell_type": "code",
     "checksum": "22a9f0d9e0ac70dba823b90c15e5ec09",
     "grade": true,
     "grade_id": "NeuralLanguageModel2_D",
     "locked": false,
     "points": 20,
     "schema_version": 3,
     "solution": true,
     "task": false
    }
   },
   "outputs": [],
   "source": [
    "from torch.nn import CrossEntropyLoss\n",
    "from torch.optim import AdamW\n",
    "\n",
    "vocab_size = dataset.tokenizer.get_vocab_size()\n",
    "\n",
    "model = NeuralLanguageModel(vocab_size= vocab_size, embedding_size=8, hidden_size=12)\n",
    "dataloader = DataLoader(dataset, batch_size=256, shuffle=True)\n",
    "loss_fn = CrossEntropyLoss()\n",
    "optimizer = AdamW(model.parameters(), lr=0.01)"
   ]
  },
  {
   "cell_type": "markdown",
   "id": "e96ee7f8",
   "metadata": {
    "deletable": false,
    "editable": false,
    "nbgrader": {
     "cell_type": "markdown",
     "checksum": "25b366cedb9c89bcfe7d424e7ba22a0a",
     "grade": false,
     "grade_id": "NeuralLanguageModel2_E_Description0",
     "locked": true,
     "schema_version": 3,
     "solution": false,
     "task": false
    }
   },
   "source": [
    "## Neural Language Model E)\n",
    "### Train the model\n",
    "\n",
    "Train the model for at least 10 epochs (this should take about 3 minutes).\n",
    "\n",
    "**Hint: If you want a progress bar for your loops you can use the following code:**\n",
    "\n"
   ]
  },
  {
   "cell_type": "code",
   "execution_count": 55,
   "id": "2b0fafdb",
   "metadata": {
    "ExecuteTime": {
     "end_time": "2024-05-21T12:23:31.329772Z",
     "start_time": "2024-05-21T12:20:25.616096Z"
    },
    "deletable": false,
    "nbgrader": {
     "cell_type": "code",
     "checksum": "268dc182cd23c3ad45e38802a7af131c",
     "grade": true,
     "grade_id": "NeuralLanguageModel2_E",
     "locked": false,
     "points": 15,
     "schema_version": 3,
     "solution": true,
     "task": false
    }
   },
   "outputs": [
    {
     "data": {
      "application/vnd.jupyter.widget-view+json": {
       "model_id": "6b58ef07bec34c75af230298a29ea08c",
       "version_major": 2,
       "version_minor": 0
      },
      "text/plain": [
       "Processing:   0%|          | 0/10 [00:00<?, ?it/s]"
      ]
     },
     "metadata": {},
     "output_type": "display_data"
    },
    {
     "data": {
      "text/plain": [
       "[5.05574184773015,\n",
       " 4.002994163363588,\n",
       " 3.6176302877126956,\n",
       " 3.3918839435951385,\n",
       " 3.2453005570991365,\n",
       " 3.1354138862852956,\n",
       " 3.047662863544389,\n",
       " 2.9745425605306437,\n",
       " 2.9141877655889474,\n",
       " 2.8609562714894614]"
      ]
     },
     "execution_count": 55,
     "metadata": {},
     "output_type": "execute_result"
    }
   ],
   "source": [
    "from tqdm.notebook import tqdm_notebook\n",
    "\n",
    "epoch_losses = []\n",
    "\n",
    "for i in tqdm_notebook(range(10), desc=\"Processing\"):\n",
    "\n",
    "   \n",
    "    \n",
    "#     epoch_losses.append( train_one_epoch( model, \n",
    "#                     optimizer, \n",
    "#                     loss_fn, \n",
    "#                     dataloader))\n",
    "\n",
    "    batch_losses = []\n",
    "\n",
    "    for batch_id, data in enumerate(dataloader):\n",
    "#         print(\"b\",batch_id)\n",
    "#         print(\"d\",data)\n",
    "\n",
    "        inputs, labels = data\n",
    "        word1, word2, word3 = inputs\n",
    "#         print(word1)\n",
    "#         print(\"w\",word1[0])\n",
    "        outputs = model(word1, word2, word3)\n",
    "        \n",
    "        # We need to zero our gradients for every batch!\n",
    "        optimizer.zero_grad()\n",
    "\n",
    "        # Calculate loss\n",
    "        loss = loss_fn(outputs, labels)\n",
    "\n",
    "        # Calculate gradient from loss\n",
    "        loss.backward()\n",
    "\n",
    "        # Update weights\n",
    "        optimizer.step()\n",
    "\n",
    "        # Record the loss\n",
    "        batch_losses.append(loss.item())\n",
    "\n",
    "    epoch_losses.append(np.mean(batch_losses))\n",
    "\n",
    "epoch_losses"
   ]
  },
  {
   "cell_type": "markdown",
   "id": "8a078566",
   "metadata": {
    "deletable": false,
    "editable": false,
    "nbgrader": {
     "cell_type": "markdown",
     "checksum": "4825bf8c47a5f4fe0246beb1aa91742b",
     "grade": false,
     "grade_id": "NeuralLanguageModel2_F_Description0",
     "locked": true,
     "schema_version": 3,
     "solution": false,
     "task": false
    }
   },
   "source": [
    "## Neural Language Model F)\n",
    "### Plot the losses\n",
    "\n",
    "Create a plot with the batch losses.\n",
    "Your x axis is the epoch, your y axis is the loss.\n",
    "\n",
    "Don't forget labels, a title and a grid"
   ]
  },
  {
   "cell_type": "code",
   "execution_count": 56,
   "id": "5c337f5d",
   "metadata": {
    "ExecuteTime": {
     "end_time": "2024-05-21T12:23:31.603911Z",
     "start_time": "2024-05-21T12:23:31.332769Z"
    },
    "deletable": false,
    "nbgrader": {
     "cell_type": "code",
     "checksum": "ab60650a7f573e39a3afd5e679018926",
     "grade": true,
     "grade_id": "NeuralLanguageModel2_F",
     "locked": false,
     "points": 10,
     "schema_version": 3,
     "solution": true,
     "task": false
    }
   },
   "outputs": [
    {
     "data": {
      "image/png": "[encoded data removed]",
      "text/plain": [
       "<Figure size 640x480 with 1 Axes>"
      ]
     },
     "metadata": {},
     "output_type": "display_data"
    }
   ],
   "source": [
    "import matplotlib.pyplot as plt\n",
    "\n",
    "plt.plot(epoch_losses)\n",
    "\n",
    "plt.grid()\n",
    "plt.xlabel(\"Epoch\")\n",
    "plt.ylabel(\"CrossEntropy Loss\")\n",
    "plt.title(\"Loss for NeuralLanguageModel\")\n",
    "\n",
    "plt.show()"
   ]
  },
  {
   "cell_type": "code",
   "execution_count": 57,
   "id": "fac69250",
   "metadata": {
    "ExecuteTime": {
     "end_time": "2024-05-21T12:23:31.647820Z",
     "start_time": "2024-05-21T12:23:31.607981Z"
    },
    "deletable": false,
    "editable": false,
    "nbgrader": {
     "cell_type": "code",
     "checksum": "0d22e319d24dbb5f50b0d9e3516aa80a",
     "grade": false,
     "grade_id": "cell-95573703dff4a00e",
     "locked": true,
     "schema_version": 3,
     "solution": false,
     "task": false
    }
   },
   "outputs": [
    {
     "data": {
      "text/plain": [
       "'<s> <s> <s> No , no , no , no . </s>'"
      ]
     },
     "execution_count": 57,
     "metadata": {},
     "output_type": "execute_result"
    }
   ],
   "source": [
    "# Here we can do inference\n",
    "sentence = \"<s> <s> I'm a little station on the ground\"\n",
    "\n",
    "tokenized = dataset.tokenizer.encode(sentence)\n",
    "token_ids = tokenized.ids\n",
    "\n",
    "onehots = dataset.encoder.encode_sequence(token_ids)[-3:]\n",
    "\n",
    "predicted_index = model(*onehots, inference=True).argmax().item()\n",
    "\n",
    "dataset.tokenizer.decode([predicted_index])\n",
    "\n",
    "def generate_random_sentence(model, dataset, input_sequence):\n",
    "    sentence_end = False\n",
    "    while not sentence_end:\n",
    "        tokenized = dataset.tokenizer.encode(input_sequence)\n",
    "        token_ids = tokenized.ids\n",
    "\n",
    "        onehots = dataset.encoder.encode_sequence(token_ids)[-3:]\n",
    "        \n",
    "        probabilities = model(*onehots, inference=True).detach().numpy()\n",
    "        \n",
    "        \n",
    "        \n",
    "        next_index = np.random.choice(model.vocab_size, p=probabilities)\n",
    "        \n",
    "        # We specified <s> and </s> as special tokens. To have them be part of the output \n",
    "        # we need to set the flag skip_special_tokens=False\n",
    "        next_word = dataset.tokenizer.decode([next_index], skip_special_tokens=False)\n",
    "        sentence_end = next_word == \"</s>\"\n",
    "        input_sequence += f\" {next_word}\"\n",
    "    return input_sequence\n",
    "\n",
    "generate_random_sentence(model, dataset, \"<s> <s> <s> No\")"
   ]
  },
  {
   "cell_type": "code",
   "execution_count": null,
   "id": "12159cb2",
   "metadata": {},
   "outputs": [],
   "source": []
  }
 ],
 "metadata": {
  "kernelspec": {
   "display_name": "Python 3 (ipykernel)",
   "language": "python",
   "name": "python3"
  },
  "language_info": {
   "codemirror_mode": {
    "name": "ipython",
    "version": 3
   },
   "file_extension": ".py",
   "mimetype": "text/x-python",
   "name": "python",
   "nbconvert_exporter": "python",
   "pygments_lexer": "ipython3",
   "version": "3.11.4"
  }
 },
 "nbformat": 4,
 "nbformat_minor": 5
}
